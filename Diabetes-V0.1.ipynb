{
 "cells": [
  {
   "cell_type": "code",
   "execution_count": 31,
   "metadata": {},
   "outputs": [],
   "source": [
    "import pandas as pd\n",
    "import numpy as np\n",
    "import matplotlib.pyplot as plt\n",
    "import seaborn as sns"
   ]
  },
  {
   "cell_type": "code",
   "execution_count": 32,
   "metadata": {},
   "outputs": [
    {
     "data": {
      "text/html": [
       "<div>\n",
       "<style scoped>\n",
       "    .dataframe tbody tr th:only-of-type {\n",
       "        vertical-align: middle;\n",
       "    }\n",
       "\n",
       "    .dataframe tbody tr th {\n",
       "        vertical-align: top;\n",
       "    }\n",
       "\n",
       "    .dataframe thead th {\n",
       "        text-align: right;\n",
       "    }\n",
       "</style>\n",
       "<table border=\"1\" class=\"dataframe\">\n",
       "  <thead>\n",
       "    <tr style=\"text-align: right;\">\n",
       "      <th></th>\n",
       "      <th>PatientGuid</th>\n",
       "      <th>Gender</th>\n",
       "      <th>Age</th>\n",
       "      <th>Height_Min</th>\n",
       "      <th>Height_Avg</th>\n",
       "      <th>Height_Max</th>\n",
       "      <th>Weight_Min</th>\n",
       "      <th>Weight_Avg</th>\n",
       "      <th>Weight_Max</th>\n",
       "      <th>BMI_Min</th>\n",
       "      <th>...</th>\n",
       "      <th>SBP_Min</th>\n",
       "      <th>SBP_Avg</th>\n",
       "      <th>SBP_Max</th>\n",
       "      <th>DBP_Min</th>\n",
       "      <th>DBP_Avg</th>\n",
       "      <th>DBP_Max</th>\n",
       "      <th>RR_Min</th>\n",
       "      <th>RR_Avg</th>\n",
       "      <th>RR_Max</th>\n",
       "      <th>Outcome</th>\n",
       "    </tr>\n",
       "  </thead>\n",
       "  <tbody>\n",
       "    <tr>\n",
       "      <th>9942</th>\n",
       "      <td>54320C1C-89A0-46F5-91DA-3AC4C58F6331</td>\n",
       "      <td>0</td>\n",
       "      <td>64</td>\n",
       "      <td>70.0</td>\n",
       "      <td>70.000000</td>\n",
       "      <td>70.0</td>\n",
       "      <td>216.0</td>\n",
       "      <td>218.333333</td>\n",
       "      <td>219.8</td>\n",
       "      <td>30.989</td>\n",
       "      <td>...</td>\n",
       "      <td>186</td>\n",
       "      <td>201.333333</td>\n",
       "      <td>218</td>\n",
       "      <td>102</td>\n",
       "      <td>109.333333</td>\n",
       "      <td>116</td>\n",
       "      <td>NaN</td>\n",
       "      <td>NaN</td>\n",
       "      <td>NaN</td>\n",
       "      <td>1</td>\n",
       "    </tr>\n",
       "    <tr>\n",
       "      <th>9943</th>\n",
       "      <td>A3DF5BF8-A49F-4035-A69C-D882209AE28F</td>\n",
       "      <td>1</td>\n",
       "      <td>44</td>\n",
       "      <td>64.5</td>\n",
       "      <td>64.500000</td>\n",
       "      <td>64.5</td>\n",
       "      <td>243.0</td>\n",
       "      <td>243.000000</td>\n",
       "      <td>243.0</td>\n",
       "      <td>41.062</td>\n",
       "      <td>...</td>\n",
       "      <td>186</td>\n",
       "      <td>186.000000</td>\n",
       "      <td>186</td>\n",
       "      <td>110</td>\n",
       "      <td>110.000000</td>\n",
       "      <td>110</td>\n",
       "      <td>16.0</td>\n",
       "      <td>16.0</td>\n",
       "      <td>16.0</td>\n",
       "      <td>0</td>\n",
       "    </tr>\n",
       "    <tr>\n",
       "      <th>9944</th>\n",
       "      <td>705AC2C8-5623-4812-8234-E0E72E5A1AC5</td>\n",
       "      <td>0</td>\n",
       "      <td>48</td>\n",
       "      <td>71.0</td>\n",
       "      <td>71.666667</td>\n",
       "      <td>72.0</td>\n",
       "      <td>135.0</td>\n",
       "      <td>175.000000</td>\n",
       "      <td>200.0</td>\n",
       "      <td>18.827</td>\n",
       "      <td>...</td>\n",
       "      <td>190</td>\n",
       "      <td>190.000000</td>\n",
       "      <td>190</td>\n",
       "      <td>80</td>\n",
       "      <td>80.000000</td>\n",
       "      <td>80</td>\n",
       "      <td>NaN</td>\n",
       "      <td>NaN</td>\n",
       "      <td>NaN</td>\n",
       "      <td>0</td>\n",
       "    </tr>\n",
       "    <tr>\n",
       "      <th>9945</th>\n",
       "      <td>9DF22440-9F32-4EA1-8E58-2276FCF35916</td>\n",
       "      <td>0</td>\n",
       "      <td>38</td>\n",
       "      <td>72.0</td>\n",
       "      <td>72.000000</td>\n",
       "      <td>72.0</td>\n",
       "      <td>220.0</td>\n",
       "      <td>220.000000</td>\n",
       "      <td>220.0</td>\n",
       "      <td>29.834</td>\n",
       "      <td>...</td>\n",
       "      <td>190</td>\n",
       "      <td>190.000000</td>\n",
       "      <td>190</td>\n",
       "      <td>115</td>\n",
       "      <td>115.000000</td>\n",
       "      <td>115</td>\n",
       "      <td>16.0</td>\n",
       "      <td>16.0</td>\n",
       "      <td>16.0</td>\n",
       "      <td>1</td>\n",
       "    </tr>\n",
       "    <tr>\n",
       "      <th>9946</th>\n",
       "      <td>20D51030-10EF-4DA0-B872-2125A9565EE6</td>\n",
       "      <td>1</td>\n",
       "      <td>52</td>\n",
       "      <td>62.0</td>\n",
       "      <td>62.000000</td>\n",
       "      <td>62.0</td>\n",
       "      <td>151.6</td>\n",
       "      <td>153.733333</td>\n",
       "      <td>155.8</td>\n",
       "      <td>27.725</td>\n",
       "      <td>...</td>\n",
       "      <td>192</td>\n",
       "      <td>198.000000</td>\n",
       "      <td>202</td>\n",
       "      <td>98</td>\n",
       "      <td>108.666667</td>\n",
       "      <td>118</td>\n",
       "      <td>NaN</td>\n",
       "      <td>NaN</td>\n",
       "      <td>NaN</td>\n",
       "      <td>0</td>\n",
       "    </tr>\n",
       "  </tbody>\n",
       "</table>\n",
       "<p>5 rows × 22 columns</p>\n",
       "</div>"
      ],
      "text/plain": [
       "                               PatientGuid  Gender  Age  Height_Min  \\\n",
       "9942  54320C1C-89A0-46F5-91DA-3AC4C58F6331       0   64        70.0   \n",
       "9943  A3DF5BF8-A49F-4035-A69C-D882209AE28F       1   44        64.5   \n",
       "9944  705AC2C8-5623-4812-8234-E0E72E5A1AC5       0   48        71.0   \n",
       "9945  9DF22440-9F32-4EA1-8E58-2276FCF35916       0   38        72.0   \n",
       "9946  20D51030-10EF-4DA0-B872-2125A9565EE6       1   52        62.0   \n",
       "\n",
       "      Height_Avg  Height_Max  Weight_Min  Weight_Avg  Weight_Max  BMI_Min  \\\n",
       "9942   70.000000        70.0       216.0  218.333333       219.8   30.989   \n",
       "9943   64.500000        64.5       243.0  243.000000       243.0   41.062   \n",
       "9944   71.666667        72.0       135.0  175.000000       200.0   18.827   \n",
       "9945   72.000000        72.0       220.0  220.000000       220.0   29.834   \n",
       "9946   62.000000        62.0       151.6  153.733333       155.8   27.725   \n",
       "\n",
       "       ...     SBP_Min     SBP_Avg  SBP_Max  DBP_Min     DBP_Avg  DBP_Max  \\\n",
       "9942   ...         186  201.333333      218      102  109.333333      116   \n",
       "9943   ...         186  186.000000      186      110  110.000000      110   \n",
       "9944   ...         190  190.000000      190       80   80.000000       80   \n",
       "9945   ...         190  190.000000      190      115  115.000000      115   \n",
       "9946   ...         192  198.000000      202       98  108.666667      118   \n",
       "\n",
       "      RR_Min  RR_Avg  RR_Max  Outcome  \n",
       "9942     NaN     NaN     NaN        1  \n",
       "9943    16.0    16.0    16.0        0  \n",
       "9944     NaN     NaN     NaN        0  \n",
       "9945    16.0    16.0    16.0        1  \n",
       "9946     NaN     NaN     NaN        0  \n",
       "\n",
       "[5 rows x 22 columns]"
      ]
     },
     "execution_count": 32,
     "metadata": {},
     "output_type": "execute_result"
    }
   ],
   "source": [
    "df1 = pd.read_csv(\"patient_info.csv\")\n",
    "df1.tail()"
   ]
  },
  {
   "cell_type": "code",
   "execution_count": 33,
   "metadata": {},
   "outputs": [
    {
     "data": {
      "text/html": [
       "<div>\n",
       "<style scoped>\n",
       "    .dataframe tbody tr th:only-of-type {\n",
       "        vertical-align: middle;\n",
       "    }\n",
       "\n",
       "    .dataframe tbody tr th {\n",
       "        vertical-align: top;\n",
       "    }\n",
       "\n",
       "    .dataframe thead th {\n",
       "        text-align: right;\n",
       "    }\n",
       "</style>\n",
       "<table border=\"1\" class=\"dataframe\">\n",
       "  <thead>\n",
       "    <tr style=\"text-align: right;\">\n",
       "      <th></th>\n",
       "      <th>Gender</th>\n",
       "      <th>Age</th>\n",
       "      <th>Height_Min</th>\n",
       "      <th>Height_Avg</th>\n",
       "      <th>Height_Max</th>\n",
       "      <th>Weight_Min</th>\n",
       "      <th>Weight_Avg</th>\n",
       "      <th>Weight_Max</th>\n",
       "      <th>BMI_Min</th>\n",
       "      <th>BMI_Avg</th>\n",
       "      <th>BMI_Max</th>\n",
       "      <th>SBP_Min</th>\n",
       "      <th>SBP_Avg</th>\n",
       "      <th>SBP_Max</th>\n",
       "      <th>DBP_Min</th>\n",
       "      <th>DBP_Avg</th>\n",
       "      <th>DBP_Max</th>\n",
       "      <th>Outcome</th>\n",
       "    </tr>\n",
       "  </thead>\n",
       "  <tbody>\n",
       "    <tr>\n",
       "      <th>9942</th>\n",
       "      <td>0</td>\n",
       "      <td>64</td>\n",
       "      <td>70.0</td>\n",
       "      <td>70.000000</td>\n",
       "      <td>70.0</td>\n",
       "      <td>216.0</td>\n",
       "      <td>218.333333</td>\n",
       "      <td>219.8</td>\n",
       "      <td>30.989</td>\n",
       "      <td>30.989</td>\n",
       "      <td>30.989</td>\n",
       "      <td>186</td>\n",
       "      <td>201.333333</td>\n",
       "      <td>218</td>\n",
       "      <td>102</td>\n",
       "      <td>109.333333</td>\n",
       "      <td>116</td>\n",
       "      <td>1</td>\n",
       "    </tr>\n",
       "    <tr>\n",
       "      <th>9943</th>\n",
       "      <td>1</td>\n",
       "      <td>44</td>\n",
       "      <td>64.5</td>\n",
       "      <td>64.500000</td>\n",
       "      <td>64.5</td>\n",
       "      <td>243.0</td>\n",
       "      <td>243.000000</td>\n",
       "      <td>243.0</td>\n",
       "      <td>41.062</td>\n",
       "      <td>41.062</td>\n",
       "      <td>41.062</td>\n",
       "      <td>186</td>\n",
       "      <td>186.000000</td>\n",
       "      <td>186</td>\n",
       "      <td>110</td>\n",
       "      <td>110.000000</td>\n",
       "      <td>110</td>\n",
       "      <td>0</td>\n",
       "    </tr>\n",
       "    <tr>\n",
       "      <th>9944</th>\n",
       "      <td>0</td>\n",
       "      <td>48</td>\n",
       "      <td>71.0</td>\n",
       "      <td>71.666667</td>\n",
       "      <td>72.0</td>\n",
       "      <td>135.0</td>\n",
       "      <td>175.000000</td>\n",
       "      <td>200.0</td>\n",
       "      <td>18.827</td>\n",
       "      <td>23.905</td>\n",
       "      <td>27.122</td>\n",
       "      <td>190</td>\n",
       "      <td>190.000000</td>\n",
       "      <td>190</td>\n",
       "      <td>80</td>\n",
       "      <td>80.000000</td>\n",
       "      <td>80</td>\n",
       "      <td>0</td>\n",
       "    </tr>\n",
       "    <tr>\n",
       "      <th>9945</th>\n",
       "      <td>0</td>\n",
       "      <td>38</td>\n",
       "      <td>72.0</td>\n",
       "      <td>72.000000</td>\n",
       "      <td>72.0</td>\n",
       "      <td>220.0</td>\n",
       "      <td>220.000000</td>\n",
       "      <td>220.0</td>\n",
       "      <td>29.834</td>\n",
       "      <td>29.834</td>\n",
       "      <td>29.834</td>\n",
       "      <td>190</td>\n",
       "      <td>190.000000</td>\n",
       "      <td>190</td>\n",
       "      <td>115</td>\n",
       "      <td>115.000000</td>\n",
       "      <td>115</td>\n",
       "      <td>1</td>\n",
       "    </tr>\n",
       "    <tr>\n",
       "      <th>9946</th>\n",
       "      <td>1</td>\n",
       "      <td>52</td>\n",
       "      <td>62.0</td>\n",
       "      <td>62.000000</td>\n",
       "      <td>62.0</td>\n",
       "      <td>151.6</td>\n",
       "      <td>153.733333</td>\n",
       "      <td>155.8</td>\n",
       "      <td>27.725</td>\n",
       "      <td>28.115</td>\n",
       "      <td>28.493</td>\n",
       "      <td>192</td>\n",
       "      <td>198.000000</td>\n",
       "      <td>202</td>\n",
       "      <td>98</td>\n",
       "      <td>108.666667</td>\n",
       "      <td>118</td>\n",
       "      <td>0</td>\n",
       "    </tr>\n",
       "  </tbody>\n",
       "</table>\n",
       "</div>"
      ],
      "text/plain": [
       "      Gender  Age  Height_Min  Height_Avg  Height_Max  Weight_Min  Weight_Avg  \\\n",
       "9942       0   64        70.0   70.000000        70.0       216.0  218.333333   \n",
       "9943       1   44        64.5   64.500000        64.5       243.0  243.000000   \n",
       "9944       0   48        71.0   71.666667        72.0       135.0  175.000000   \n",
       "9945       0   38        72.0   72.000000        72.0       220.0  220.000000   \n",
       "9946       1   52        62.0   62.000000        62.0       151.6  153.733333   \n",
       "\n",
       "      Weight_Max  BMI_Min  BMI_Avg  BMI_Max  SBP_Min     SBP_Avg  SBP_Max  \\\n",
       "9942       219.8   30.989   30.989   30.989      186  201.333333      218   \n",
       "9943       243.0   41.062   41.062   41.062      186  186.000000      186   \n",
       "9944       200.0   18.827   23.905   27.122      190  190.000000      190   \n",
       "9945       220.0   29.834   29.834   29.834      190  190.000000      190   \n",
       "9946       155.8   27.725   28.115   28.493      192  198.000000      202   \n",
       "\n",
       "      DBP_Min     DBP_Avg  DBP_Max  Outcome  \n",
       "9942      102  109.333333      116        1  \n",
       "9943      110  110.000000      110        0  \n",
       "9944       80   80.000000       80        0  \n",
       "9945      115  115.000000      115        1  \n",
       "9946       98  108.666667      118        0  "
      ]
     },
     "execution_count": 33,
     "metadata": {},
     "output_type": "execute_result"
    }
   ],
   "source": [
    "df1 = df1.drop(['PatientGuid', 'RR_Min', 'RR_Avg', 'RR_Max'], axis=1)\n",
    "df1.tail()"
   ]
  },
  {
   "cell_type": "markdown",
   "metadata": {},
   "source": [
    "<b> SBP = Systolic Blood Pressure<br>\n",
    "DBP = Diastolic Blood Pressure<br>\n",
    "    Outcome 1 = Diabetic<br>\n",
    "    Outcome 0 = Non-Diabetic<br>\n",
    "    Gender 1 = Female<br>\n",
    "    Gender 0 = Male"
   ]
  },
  {
   "cell_type": "code",
   "execution_count": 34,
   "metadata": {},
   "outputs": [
    {
     "data": {
      "text/plain": [
       "Text(0,0.5,'Frequecy')"
      ]
     },
     "execution_count": 34,
     "metadata": {},
     "output_type": "execute_result"
    },
    {
     "data": {
      "image/png": "[encoded data removed]",
      "text/plain": [
       "<Figure size 1080x360 with 2 Axes>"
      ]
     },
     "metadata": {},
     "output_type": "display_data"
    }
   ],
   "source": [
    "plt.subplots(1,2,figsize=(15,5))\n",
    "plt.subplot(1, 2, 1)\n",
    "sns.countplot(df1['Outcome'])\n",
    "plt.title(\"Frequency of Diabetes in Dataset\")\n",
    "plt.xlabel(\"Outcome\")\n",
    "plt.ylabel(\"Frequecy\")\n",
    "\n",
    "plt.subplot(1, 2, 2)\n",
    "sns.countplot(df1['Gender'])\n",
    "plt.title(\"Frequency of Gender in Dataset\")\n",
    "plt.xlabel(\"Gender\")\n",
    "plt.ylabel(\"Frequecy\")"
   ]
  },
  {
   "cell_type": "markdown",
   "metadata": {},
   "source": [
    "## Normalize Data"
   ]
  },
  {
   "cell_type": "code",
   "execution_count": 35,
   "metadata": {},
   "outputs": [
    {
     "data": {
      "text/html": [
       "<div>\n",
       "<style scoped>\n",
       "    .dataframe tbody tr th:only-of-type {\n",
       "        vertical-align: middle;\n",
       "    }\n",
       "\n",
       "    .dataframe tbody tr th {\n",
       "        vertical-align: top;\n",
       "    }\n",
       "\n",
       "    .dataframe thead th {\n",
       "        text-align: right;\n",
       "    }\n",
       "</style>\n",
       "<table border=\"1\" class=\"dataframe\">\n",
       "  <thead>\n",
       "    <tr style=\"text-align: right;\">\n",
       "      <th></th>\n",
       "      <th>Gender</th>\n",
       "      <th>Age</th>\n",
       "      <th>Height_Min</th>\n",
       "      <th>Height_Avg</th>\n",
       "      <th>Height_Max</th>\n",
       "      <th>Weight_Min</th>\n",
       "      <th>Weight_Avg</th>\n",
       "      <th>Weight_Max</th>\n",
       "      <th>BMI_Min</th>\n",
       "      <th>BMI_Avg</th>\n",
       "      <th>BMI_Max</th>\n",
       "      <th>SBP_Min</th>\n",
       "      <th>SBP_Avg</th>\n",
       "      <th>SBP_Max</th>\n",
       "      <th>DBP_Min</th>\n",
       "      <th>DBP_Avg</th>\n",
       "      <th>DBP_Max</th>\n",
       "      <th>Outcome</th>\n",
       "    </tr>\n",
       "  </thead>\n",
       "  <tbody>\n",
       "    <tr>\n",
       "      <th>0</th>\n",
       "      <td>1</td>\n",
       "      <td>0.138889</td>\n",
       "      <td>0.834395</td>\n",
       "      <td>0.447862</td>\n",
       "      <td>0.102171</td>\n",
       "      <td>0.479132</td>\n",
       "      <td>0.159667</td>\n",
       "      <td>0.038792</td>\n",
       "      <td>0.384816</td>\n",
       "      <td>0.000241</td>\n",
       "      <td>0.000018</td>\n",
       "      <td>0.000000</td>\n",
       "      <td>0.032172</td>\n",
       "      <td>0.141304</td>\n",
       "      <td>0.517544</td>\n",
       "      <td>0.292808</td>\n",
       "      <td>0.035789</td>\n",
       "      <td>0</td>\n",
       "    </tr>\n",
       "    <tr>\n",
       "      <th>1</th>\n",
       "      <td>1</td>\n",
       "      <td>0.402778</td>\n",
       "      <td>0.796178</td>\n",
       "      <td>0.407755</td>\n",
       "      <td>0.076628</td>\n",
       "      <td>0.746244</td>\n",
       "      <td>0.355509</td>\n",
       "      <td>0.086763</td>\n",
       "      <td>0.657845</td>\n",
       "      <td>0.000654</td>\n",
       "      <td>0.000048</td>\n",
       "      <td>0.000000</td>\n",
       "      <td>0.088472</td>\n",
       "      <td>0.184783</td>\n",
       "      <td>0.517544</td>\n",
       "      <td>0.325342</td>\n",
       "      <td>0.042105</td>\n",
       "      <td>0</td>\n",
       "    </tr>\n",
       "    <tr>\n",
       "      <th>2</th>\n",
       "      <td>1</td>\n",
       "      <td>0.500000</td>\n",
       "      <td>0.808917</td>\n",
       "      <td>0.421658</td>\n",
       "      <td>0.093657</td>\n",
       "      <td>0.519199</td>\n",
       "      <td>0.257683</td>\n",
       "      <td>0.069825</td>\n",
       "      <td>0.443525</td>\n",
       "      <td>0.000450</td>\n",
       "      <td>0.000037</td>\n",
       "      <td>0.000000</td>\n",
       "      <td>0.295657</td>\n",
       "      <td>0.336957</td>\n",
       "      <td>0.517544</td>\n",
       "      <td>0.398219</td>\n",
       "      <td>0.054737</td>\n",
       "      <td>0</td>\n",
       "    </tr>\n",
       "    <tr>\n",
       "      <th>3</th>\n",
       "      <td>0</td>\n",
       "      <td>0.833333</td>\n",
       "      <td>0.923567</td>\n",
       "      <td>0.550803</td>\n",
       "      <td>0.170285</td>\n",
       "      <td>0.686144</td>\n",
       "      <td>0.326320</td>\n",
       "      <td>0.080841</td>\n",
       "      <td>0.438076</td>\n",
       "      <td>0.000337</td>\n",
       "      <td>0.000026</td>\n",
       "      <td>0.005495</td>\n",
       "      <td>0.183838</td>\n",
       "      <td>0.184783</td>\n",
       "      <td>0.517544</td>\n",
       "      <td>0.333089</td>\n",
       "      <td>0.042105</td>\n",
       "      <td>1</td>\n",
       "    </tr>\n",
       "    <tr>\n",
       "      <th>4</th>\n",
       "      <td>1</td>\n",
       "      <td>0.847222</td>\n",
       "      <td>0.808917</td>\n",
       "      <td>0.421124</td>\n",
       "      <td>0.085143</td>\n",
       "      <td>0.570952</td>\n",
       "      <td>0.232810</td>\n",
       "      <td>0.058632</td>\n",
       "      <td>0.487732</td>\n",
       "      <td>0.000407</td>\n",
       "      <td>0.000031</td>\n",
       "      <td>0.005495</td>\n",
       "      <td>0.270534</td>\n",
       "      <td>0.315217</td>\n",
       "      <td>0.482456</td>\n",
       "      <td>0.315484</td>\n",
       "      <td>0.044211</td>\n",
       "      <td>1</td>\n",
       "    </tr>\n",
       "  </tbody>\n",
       "</table>\n",
       "</div>"
      ],
      "text/plain": [
       "   Gender       Age  Height_Min  Height_Avg  Height_Max  Weight_Min  \\\n",
       "0       1  0.138889    0.834395    0.447862    0.102171    0.479132   \n",
       "1       1  0.402778    0.796178    0.407755    0.076628    0.746244   \n",
       "2       1  0.500000    0.808917    0.421658    0.093657    0.519199   \n",
       "3       0  0.833333    0.923567    0.550803    0.170285    0.686144   \n",
       "4       1  0.847222    0.808917    0.421124    0.085143    0.570952   \n",
       "\n",
       "   Weight_Avg  Weight_Max   BMI_Min   BMI_Avg   BMI_Max   SBP_Min   SBP_Avg  \\\n",
       "0    0.159667    0.038792  0.384816  0.000241  0.000018  0.000000  0.032172   \n",
       "1    0.355509    0.086763  0.657845  0.000654  0.000048  0.000000  0.088472   \n",
       "2    0.257683    0.069825  0.443525  0.000450  0.000037  0.000000  0.295657   \n",
       "3    0.326320    0.080841  0.438076  0.000337  0.000026  0.005495  0.183838   \n",
       "4    0.232810    0.058632  0.487732  0.000407  0.000031  0.005495  0.270534   \n",
       "\n",
       "    SBP_Max   DBP_Min   DBP_Avg   DBP_Max  Outcome  \n",
       "0  0.141304  0.517544  0.292808  0.035789        0  \n",
       "1  0.184783  0.517544  0.325342  0.042105        0  \n",
       "2  0.336957  0.517544  0.398219  0.054737        0  \n",
       "3  0.184783  0.517544  0.333089  0.042105        1  \n",
       "4  0.315217  0.482456  0.315484  0.044211        1  "
      ]
     },
     "execution_count": 35,
     "metadata": {},
     "output_type": "execute_result"
    }
   ],
   "source": [
    "df_norm = df1.copy()\n",
    "\n",
    "value = df1['Age']\n",
    "normalized_age = (value-min(value))/(max(value)-min(value))\n",
    "df_norm['Age'] = normalized_age\n",
    "\n",
    "value = df1['Height_Min']\n",
    "normalized_height_min = (value-min(value))/(max(value)-min(value))\n",
    "df_norm['Height_Min'] = normalized_height_min\n",
    "\n",
    "value = df1['Height_Avg']\n",
    "normalized_height_avg = (value-min(value))/(max(value)-min(value))\n",
    "df_norm['Height_Avg'] = normalized_height_avg\n",
    "\n",
    "value = df1['Height_Max']\n",
    "normalized_height_max = (value-min(value))/(max(value)-min(value))\n",
    "df_norm['Height_Max'] = normalized_height_max\n",
    "\n",
    "value = df1['Weight_Min']\n",
    "normalized_weight_min = (value-min(value))/(max(value)-min(value))\n",
    "df_norm['Weight_Min'] = normalized_weight_min\n",
    "\n",
    "value = df1['Weight_Avg']\n",
    "normalized_weight_avg = (value-min(value))/(max(value)-min(value))\n",
    "df_norm['Weight_Avg'] = normalized_weight_avg\n",
    "\n",
    "value = df1['Weight_Max']\n",
    "normalized_weight_max = (value-min(value))/(max(value)-min(value))\n",
    "df_norm['Weight_Max'] = normalized_weight_max\n",
    "\n",
    "value = df1['BMI_Min']\n",
    "normalized_BMI_min = (value-min(value))/(max(value)-min(value))\n",
    "df_norm['BMI_Min'] = normalized_BMI_min\n",
    "\n",
    "value = df1['BMI_Avg']\n",
    "normalized_BMI_avg = (value-min(value))/(max(value)-min(value))\n",
    "df_norm['BMI_Avg'] = normalized_BMI_avg\n",
    "\n",
    "value = df1['BMI_Max']\n",
    "normalized_BMI_max = (value-min(value))/(max(value)-min(value))\n",
    "df_norm['BMI_Max'] = normalized_BMI_max\n",
    "\n",
    "value = df1['SBP_Min']\n",
    "normalized_SBP_min = (value-min(value))/(max(value)-min(value))\n",
    "df_norm['SBP_Min'] = normalized_SBP_min\n",
    "\n",
    "value = df1['SBP_Avg']\n",
    "normalized_SBP_avg = (value-min(value))/(max(value)-min(value))\n",
    "df_norm['SBP_Avg'] = normalized_SBP_avg\n",
    "\n",
    "value = df1['SBP_Max']\n",
    "normalized_SBP_max = (value-min(value))/(max(value)-min(value))\n",
    "df_norm['SBP_Max'] = normalized_SBP_max\n",
    "\n",
    "value = df1['DBP_Min']\n",
    "normalized_DBP_min = (value-min(value))/(max(value)-min(value))\n",
    "df_norm['DBP_Min'] = normalized_DBP_min\n",
    "\n",
    "value = df1['DBP_Avg']\n",
    "normalized_DBP_avg = (value-min(value))/(max(value)-min(value))\n",
    "df_norm['DBP_Avg'] = normalized_DBP_avg\n",
    "\n",
    "value = df1['DBP_Max']\n",
    "normalized_DBP_max = (value-min(value))/(max(value)-min(value))\n",
    "df_norm['DBP_Max'] = normalized_DBP_max\n",
    "\n",
    "df_norm.head()"
   ]
  },
  {
   "cell_type": "markdown",
   "metadata": {},
   "source": [
    "## kNN"
   ]
  },
  {
   "cell_type": "code",
   "execution_count": 36,
   "metadata": {},
   "outputs": [
    {
     "data": {
      "text/plain": [
       "<matplotlib.legend.Legend at 0xf8e1470>"
      ]
     },
     "execution_count": 36,
     "metadata": {},
     "output_type": "execute_result"
    },
    {
     "data": {
      "image/png": "[encoded data removed]",
      "text/plain": [
       "<Figure size 864x576 with 1 Axes>"
      ]
     },
     "metadata": {},
     "output_type": "display_data"
    }
   ],
   "source": [
    "from sklearn.model_selection import train_test_split, cross_val_score\n",
    "from sklearn.neighbors import KNeighborsClassifier\n",
    "from sklearn.model_selection import KFold\n",
    "X_train, X_test, y_train, y_test = train_test_split(df1.loc[:, 'Gender':'DBP_Max'], df1['Outcome'], test_size=.3, random_state=66)\n",
    "\n",
    "# these two arrays will hold our accuracy scores\n",
    "training_accuracy = []\n",
    "test_accuracy = []\n",
    "\n",
    "# try n_neighbors from 1 to 50\n",
    "neighbors = range(1, 50)\n",
    "\n",
    "# this will loop through k from 1 to 50\n",
    "for k in neighbors:\n",
    "    knn = KNeighborsClassifier(n_neighbors=k)\n",
    "    knn.fit(X_train, y_train)\n",
    "    # append accuracy score of training set to array\n",
    "    training_accuracy.append(knn.score(X_train, y_train))\n",
    "    # append accuracy score of testing set to array\n",
    "    test_accuracy.append(knn.score(X_test, y_test))\n",
    "\n",
    "plt.figure(figsize=(12,8))\n",
    "plt.plot(neighbors, training_accuracy, label=\"training accuracy\")\n",
    "plt.plot(neighbors, test_accuracy, label=\"test accuracy\")\n",
    "plt.ylabel(\"Accuracy\")\n",
    "plt.xlabel(\"k (Number of Neighbors)\")\n",
    "plt.title(\"Accuracy for k Neighbors from 1 to 50\")\n",
    "plt.legend()"
   ]
  },
  {
   "cell_type": "code",
   "execution_count": 37,
   "metadata": {},
   "outputs": [
    {
     "name": "stdout",
     "output_type": "stream",
     "text": [
      "The optimal k value is for test accuracy: 25\n",
      "Accuracy of K-NN classifier on training set: 0.81\n",
      "Accuracy of K-NN classifier on test set: 0.82\n"
     ]
    }
   ],
   "source": [
    "opt_k = neighbors[test_accuracy.index(max(test_accuracy))]\n",
    "print('The optimal k value is for test accuracy: %d' % opt_k)\n",
    "\n",
    "# output the accuracy\n",
    "print('Accuracy of K-NN classifier on training set: {:.2f}'.format(knn.score(X_train, y_train)))\n",
    "print('Accuracy of K-NN classifier on test set: {:.2f}'.format(knn.score(X_test, y_test)))"
   ]
  },
  {
   "cell_type": "code",
   "execution_count": 58,
   "metadata": {},
   "outputs": [
    {
     "data": {
      "image/png": "[encoded data removed]",
      "text/plain": [
       "<Figure size 1080x432 with 2 Axes>"
      ]
     },
     "metadata": {},
     "output_type": "display_data"
    }
   ],
   "source": [
    "from sklearn.model_selection import train_test_split, cross_val_score\n",
    "from sklearn.neighbors import KNeighborsClassifier\n",
    "from sklearn.model_selection import KFold\n",
    "\n",
    "X_train, X_test, y_train, y_test = train_test_split(df1.loc[:, 'Gender':'DBP_Max'], df1['Outcome'], test_size=.3, random_state=66)\n",
    "\n",
    "# this array will hold our cross-val scores\n",
    "cv_scores = []\n",
    "\n",
    "neighbors = list(range(1,50))\n",
    "\n",
    "# loop and perform 12-fold cross validation\n",
    "for k in neighbors:\n",
    "    knn = KNeighborsClassifier(n_neighbors=k)\n",
    "    scores = cross_val_score(knn, X_train, y_train, cv=50, scoring='accuracy')\n",
    "    cv_scores.append(scores.mean())\n",
    "\n",
    "# defining accuracy and miscalulation error\n",
    "ACC = cv_scores\n",
    "MSE = [1 - x for x in cv_scores]\n",
    "\n",
    "# plot k versus accuracy/cross-val score\n",
    "plt.subplots(1,2,figsize=(15,6))\n",
    "plt.subplot(1, 2, 1)\n",
    "plt.plot(neighbors, ACC)\n",
    "plt.title('k-Value versus Accuracy')\n",
    "plt.xlabel('k (Number of Neighbors)')\n",
    "plt.ylabel('Accuracy / Cross Validation Score')\n",
    "plt.savefig('knn_cross_val_accuracy')\n",
    "\n",
    "# plot k versus miscalculation error\n",
    "plt.subplot(1, 2, 2)\n",
    "plt.plot(neighbors, MSE)\n",
    "plt.title('k-Value versus Accuracy')\n",
    "plt.xlabel('k (Number of Neighbors)')\n",
    "plt.ylabel('Misclassification Error')\n",
    "plt.savefig('knn_cross_val_error')"
   ]
  },
  {
   "cell_type": "code",
   "execution_count": 59,
   "metadata": {},
   "outputs": [
    {
     "name": "stdout",
     "output_type": "stream",
     "text": [
      "The best accuracy / cross-val score is 0.809115\n",
      "The lowest miscalculation error is 0.190885\n",
      "The optimal number of neighbors is 41\n"
     ]
    }
   ],
   "source": [
    "# calculating optimal k\n",
    "optimal_k = neighbors[MSE.index(min(MSE))]\n",
    "print (\"The best accuracy / cross-val score is %f\" % max(ACC))\n",
    "print (\"The lowest miscalculation error is %f\" % min(MSE))\n",
    "print (\"The optimal number of neighbors is %d\" % optimal_k)"
   ]
  },
  {
   "cell_type": "code",
   "execution_count": 60,
   "metadata": {},
   "outputs": [
    {
     "data": {
      "image/png": "[encoded data removed]",
      "text/plain": [
       "<Figure size 864x576 with 1 Axes>"
      ]
     },
     "metadata": {},
     "output_type": "display_data"
    }
   ],
   "source": [
    "from sklearn.model_selection import train_test_split, cross_val_score\n",
    "from sklearn.neighbors import KNeighborsClassifier\n",
    "\n",
    "# these two arrays will hold our accuracy scores\n",
    "training_accuracy = []\n",
    "test_accuracy = []\n",
    "\n",
    "samples = [0.1, 0.15, 0.2, 0.25, 0.3, 0.35, 0.4, 0.45, 0.5, 0.55, 0.6, 0.65, 0.7, 0.75, 0.8, 0.85, 0.9, 0.95]\n",
    "\n",
    "# this will loop through the different testing ratios for the testing set\n",
    "for i in samples:\n",
    "    X_train, X_test, y_train, y_test = train_test_split(df1.loc[:, 'Gender':'DBP_Max'], df1['Outcome'], test_size=.3, random_state=66)\n",
    "    knn = KNeighborsClassifier(n_neighbors=41)\n",
    "    knn.fit(X_train, y_train)\n",
    "    # append accuracy score of training set to array\n",
    "    training_accuracy.append(knn.score(X_train, y_train))\n",
    "    # append accuracy score of testing set to array\n",
    "    test_accuracy.append(knn.score(X_test, y_test))\n",
    "\n",
    "plt.figure(figsize=(12,8))\n",
    "plt.plot(samples, training_accuracy, label=\"training accuracy\")\n",
    "plt.plot(samples, test_accuracy, label=\"test accuracy\")\n",
    "plt.ylabel(\"Accuracy\")\n",
    "plt.xlabel(\"Testing Set Ratio\")\n",
    "plt.title('At Optimal K=41, Accuracy at Different Testing Ratios')\n",
    "plt.legend()\n",
    "plt.savefig('knn_optimal_k')"
   ]
  },
  {
   "cell_type": "code",
   "execution_count": 62,
   "metadata": {},
   "outputs": [
    {
     "data": {
      "text/html": [
       "<div>\n",
       "<style scoped>\n",
       "    .dataframe tbody tr th:only-of-type {\n",
       "        vertical-align: middle;\n",
       "    }\n",
       "\n",
       "    .dataframe tbody tr th {\n",
       "        vertical-align: top;\n",
       "    }\n",
       "\n",
       "    .dataframe thead th {\n",
       "        text-align: right;\n",
       "    }\n",
       "</style>\n",
       "<table border=\"1\" class=\"dataframe\">\n",
       "  <thead>\n",
       "    <tr style=\"text-align: right;\">\n",
       "      <th></th>\n",
       "      <th>Test</th>\n",
       "      <th>Training</th>\n",
       "    </tr>\n",
       "  </thead>\n",
       "  <tbody>\n",
       "    <tr>\n",
       "      <th>False Negative</th>\n",
       "      <td>29.000000</td>\n",
       "      <td>55.000000</td>\n",
       "    </tr>\n",
       "    <tr>\n",
       "      <th>False Positive</th>\n",
       "      <td>523.000000</td>\n",
       "      <td>1244.000000</td>\n",
       "    </tr>\n",
       "    <tr>\n",
       "      <th>True Negative</th>\n",
       "      <td>2399.000000</td>\n",
       "      <td>5560.000000</td>\n",
       "    </tr>\n",
       "    <tr>\n",
       "      <th>True Positive</th>\n",
       "      <td>34.000000</td>\n",
       "      <td>103.000000</td>\n",
       "    </tr>\n",
       "    <tr>\n",
       "      <th>classification_acc</th>\n",
       "      <td>0.815075</td>\n",
       "      <td>0.813416</td>\n",
       "    </tr>\n",
       "  </tbody>\n",
       "</table>\n",
       "</div>"
      ],
      "text/plain": [
       "                           Test     Training\n",
       "False Negative        29.000000    55.000000\n",
       "False Positive       523.000000  1244.000000\n",
       "True Negative       2399.000000  5560.000000\n",
       "True Positive         34.000000   103.000000\n",
       "classification_acc     0.815075     0.813416"
      ]
     },
     "execution_count": 62,
     "metadata": {},
     "output_type": "execute_result"
    }
   ],
   "source": [
    "from sklearn.metrics import confusion_matrix\n",
    "from sklearn.metrics import accuracy_score\n",
    "X_train, X_test, y_train, y_test = train_test_split(df1.loc[:, 'Gender':'DBP_Max'], df1['Outcome'], test_size=.3, random_state=66)\n",
    "y_pred_train = knn.predict(X_train)\n",
    "y_pred_test = knn.predict(X_test)\n",
    "\n",
    "results = dict()\n",
    "train_cm = confusion_matrix(y_train, y_pred_train)\n",
    "results['Training'] = {'classification_acc': accuracy_score(y_pred_train, y_train),\n",
    "                      'True Positive': train_cm[1,1], 'False Positive': train_cm[1,0],\n",
    "                      'False Negative': train_cm[0,1], 'True Negative': train_cm[0,0]}\n",
    "\n",
    "test_cm = confusion_matrix(y_test, y_pred_test)\n",
    "results['Test'] = {'classification_acc': accuracy_score(y_pred_test, y_test),\n",
    "                      'True Positive': test_cm[1,1], 'False Positive': test_cm[1,0],\n",
    "                      'False Negative': test_cm[0,1], 'True Negative': test_cm[0,0]}\n",
    "\n",
    "pd.DataFrame(data=results)\n",
    "\n"
   ]
  },
  {
   "cell_type": "code",
   "execution_count": 65,
   "metadata": {},
   "outputs": [
    {
     "name": "stdout",
     "output_type": "stream",
     "text": [
      "Training Set\n",
      "Precision: 0.076466\n",
      "Negative predictive value: 0.990205\n",
      "Sensitivity (Recall): 0.651899\n",
      "Specificity: 0.817166\n",
      "F1 score: 0.136877\n",
      " \n",
      "Testing Set\n",
      "Precision: 0.061041\n",
      "Negative predictive value: 0.988056\n",
      "Sensitivity (Recall): 0.539683\n",
      "Specificity: 0.821013\n",
      "F1 score: 0.109677\n",
      " \n"
     ]
    }
   ],
   "source": [
    "print('Training Set')\n",
    "train_precision = float(train_cm[1,1]) / ((train_cm[1,1]) + train_cm[1,0])\n",
    "print(\"Precision: %f\" % train_precision)\n",
    "train_npv = float(train_cm[0,0]) / ((train_cm[0,0]) + train_cm[0,1])\n",
    "print(\"Negative predictive value: %f\" % train_npv)\n",
    "train_recall = float(train_cm[1,1]) / ((train_cm[1,1]) + train_cm[0,1])\n",
    "print(\"Sensitivity (Recall): %f\" % train_recall)\n",
    "train_specificity = float(train_cm[0,0]) / ((train_cm[0,0]) + train_cm[1,0])\n",
    "print(\"Specificity: %f\" % train_specificity)\n",
    "train_f1 = 2 * (train_precision * train_recall) / (train_precision + train_recall)\n",
    "print(\"F1 score: %f\" % train_f1)\n",
    "print(\" \")\n",
    "\n",
    "print('Testing Set')\n",
    "test_precision = float(test_cm[1,1]) / ((test_cm[1,1]) + test_cm[1,0])\n",
    "print(\"Precision: %f\" % test_precision)\n",
    "test_npv = float(test_cm[0,0]) / ((test_cm[0,0]) + test_cm[0,1])\n",
    "print(\"Negative predictive value: %f\" % test_npv)\n",
    "test_recall = float(test_cm[1,1]) / ((test_cm[1,1]) + test_cm[0,1])\n",
    "print(\"Sensitivity (Recall): %f\" % test_recall)\n",
    "test_specificity = float(test_cm[0,0]) / ((test_cm[0,0]) + test_cm[1,0])\n",
    "print(\"Specificity: %f\" % test_specificity)\n",
    "test_f1 = 2 * (test_precision * test_recall) / (test_precision + test_recall)\n",
    "print(\"F1 score: %f\" % test_f1)\n",
    "print(\" \")"
   ]
  },
  {
   "cell_type": "markdown",
   "metadata": {},
   "source": [
    "## Plotting the importance of Features/Variables"
   ]
  },
  {
   "cell_type": "code",
   "execution_count": 71,
   "metadata": {},
   "outputs": [],
   "source": [
    "diabetes_features = [x for i,x in enumerate(df1.columns) if i!=18]\n",
    "\n",
    "def plot_feature_importances_diabetes(model):\n",
    "    plt.figure(figsize=(8,6))\n",
    "    n_features = 17\n",
    "    plt.barh(range(n_features), model.feature_importances_, align='center')\n",
    "    plt.yticks(np.arange(n_features), diabetes_features)\n",
    "    plt.xlabel(\"Feature importance\")\n",
    "    plt.ylabel(\"Feature\")\n",
    "    plt.ylim(-1, n_features)"
   ]
  },
  {
   "cell_type": "markdown",
   "metadata": {},
   "source": [
    "## SVM"
   ]
  },
  {
   "cell_type": "code",
   "execution_count": 79,
   "metadata": {},
   "outputs": [
    {
     "name": "stdout",
     "output_type": "stream",
     "text": [
      "Accuracy on training set: 1.00\n",
      "Accuracy on test set: 0.81\n"
     ]
    }
   ],
   "source": [
    "from sklearn.model_selection import train_test_split\n",
    "X_train, X_test, y_train, y_test = train_test_split(df1.loc[:, 'Gender':'DBP_Max'], df1['Outcome'], test_size=.3, random_state=66)\n",
    "\n",
    "from sklearn.svm import SVC\n",
    "svc = SVC()\n",
    "svc.fit(X_train, y_train)\n",
    "print(\"Accuracy on training set: {:.2f}\".format(svc.score(X_train, y_train)))\n",
    "print(\"Accuracy on test set: {:.2f}\".format(svc.score(X_test, y_test)))"
   ]
  },
  {
   "cell_type": "markdown",
   "metadata": {},
   "source": [
    "<b> SVM with scaled data"
   ]
  },
  {
   "cell_type": "code",
   "execution_count": 80,
   "metadata": {},
   "outputs": [
    {
     "name": "stdout",
     "output_type": "stream",
     "text": [
      "Accuracy on training set: 0.81\n",
      "Accuracy on test set: 0.81\n"
     ]
    }
   ],
   "source": [
    "from sklearn.preprocessing import MinMaxScaler\n",
    "scaler = MinMaxScaler()\n",
    "X_train_scaled = scaler.fit_transform(X_train)\n",
    "X_test_scaled = scaler.fit_transform(X_test)\n",
    "svc = SVC()\n",
    "svc.fit(X_train_scaled, y_train)\n",
    "print(\"Accuracy on training set: {:.2f}\".format(svc.score(X_train_scaled, y_train)))\n",
    "print(\"Accuracy on test set: {:.2f}\".format(svc.score(X_test_scaled, y_test)))"
   ]
  },
  {
   "cell_type": "markdown",
   "metadata": {},
   "source": [
    "## Decision Trees"
   ]
  },
  {
   "cell_type": "code",
   "execution_count": 94,
   "metadata": {},
   "outputs": [],
   "source": [
    "#import pandas as pd\n",
    "#from sklearn import tree\n",
    "#features = list(df1.columns[:17])\n",
    "#print features"
   ]
  },
  {
   "cell_type": "code",
   "execution_count": 95,
   "metadata": {},
   "outputs": [
    {
     "name": "stdout",
     "output_type": "stream",
     "text": [
      "Accuracy on training set: 1.000\n",
      "Accuracy on test set: 0.736\n"
     ]
    }
   ],
   "source": [
    "from sklearn.model_selection import train_test_split\n",
    "X_train, X_test, y_train, y_test = train_test_split(df1.loc[:, 'Gender':'DBP_Max'], df1['Outcome'], test_size=.3, random_state=66)\n",
    "\n",
    "from sklearn.tree import DecisionTreeClassifier\n",
    "tree = DecisionTreeClassifier(random_state=0)\n",
    "tree.fit(X_train, y_train)\n",
    "print(\"Accuracy on training set: {:.3f}\".format(tree.score(X_train, y_train)))\n",
    "print(\"Accuracy on test set: {:.3f}\".format(tree.score(X_test, y_test)))"
   ]
  },
  {
   "cell_type": "code",
   "execution_count": 96,
   "metadata": {},
   "outputs": [
    {
     "name": "stdout",
     "output_type": "stream",
     "text": [
      "Accuracy on training set: 0.807\n",
      "Accuracy on test set: 0.813\n"
     ]
    }
   ],
   "source": [
    "tree = DecisionTreeClassifier(max_depth=3, random_state=0)\n",
    "tree.fit(X_train, y_train)\n",
    "print(\"Accuracy on training set: {:.3f}\".format(tree.score(X_train, y_train)))\n",
    "print(\"Accuracy on test set: {:.3f}\".format(tree.score(X_test, y_test)))"
   ]
  },
  {
   "cell_type": "code",
   "execution_count": 97,
   "metadata": {},
   "outputs": [
    {
     "data": {
      "text/html": [
       "<div>\n",
       "<style scoped>\n",
       "    .dataframe tbody tr th:only-of-type {\n",
       "        vertical-align: middle;\n",
       "    }\n",
       "\n",
       "    .dataframe tbody tr th {\n",
       "        vertical-align: top;\n",
       "    }\n",
       "\n",
       "    .dataframe thead th {\n",
       "        text-align: right;\n",
       "    }\n",
       "</style>\n",
       "<table border=\"1\" class=\"dataframe\">\n",
       "  <thead>\n",
       "    <tr style=\"text-align: right;\">\n",
       "      <th></th>\n",
       "      <th>Test</th>\n",
       "      <th>Training</th>\n",
       "    </tr>\n",
       "  </thead>\n",
       "  <tbody>\n",
       "    <tr>\n",
       "      <th>False Negative</th>\n",
       "      <td>0.0000</td>\n",
       "      <td>0.000000</td>\n",
       "    </tr>\n",
       "    <tr>\n",
       "      <th>False Positive</th>\n",
       "      <td>557.0000</td>\n",
       "      <td>1347.000000</td>\n",
       "    </tr>\n",
       "    <tr>\n",
       "      <th>True Negative</th>\n",
       "      <td>2428.0000</td>\n",
       "      <td>5615.000000</td>\n",
       "    </tr>\n",
       "    <tr>\n",
       "      <th>True Positive</th>\n",
       "      <td>0.0000</td>\n",
       "      <td>0.000000</td>\n",
       "    </tr>\n",
       "    <tr>\n",
       "      <th>classification_acc</th>\n",
       "      <td>0.8134</td>\n",
       "      <td>0.806521</td>\n",
       "    </tr>\n",
       "  </tbody>\n",
       "</table>\n",
       "</div>"
      ],
      "text/plain": [
       "                         Test     Training\n",
       "False Negative         0.0000     0.000000\n",
       "False Positive       557.0000  1347.000000\n",
       "True Negative       2428.0000  5615.000000\n",
       "True Positive          0.0000     0.000000\n",
       "classification_acc     0.8134     0.806521"
      ]
     },
     "execution_count": 97,
     "metadata": {},
     "output_type": "execute_result"
    }
   ],
   "source": [
    "from sklearn.model_selection import train_test_split\n",
    "X_train, X_test, y_train, y_test = train_test_split(df1.loc[:, 'Gender':'DBP_Max'], df1['Outcome'], test_size=.3, random_state=66)\n",
    "\n",
    "from sklearn.tree import DecisionTreeClassifier\n",
    "tree = DecisionTreeClassifier(max_depth=3, random_state=0)\n",
    "tree.fit(X_train, y_train)\n",
    "\n",
    "y_pred_train = tree.predict(X_train)\n",
    "y_pred_test = tree.predict(X_test)\n",
    "\n",
    "from sklearn.metrics import confusion_matrix\n",
    "from sklearn.metrics import accuracy_score\n",
    "results = dict()\n",
    "train_cm = confusion_matrix(y_train, y_pred_train)\n",
    "results['Training'] = {'classification_acc': accuracy_score(y_pred_train, y_train),\n",
    "                      'True Positive': train_cm[1,1], 'False Positive': train_cm[1,0],\n",
    "                      'False Negative': train_cm[0,1], 'True Negative': train_cm[0,0]}\n",
    "\n",
    "test_cm = confusion_matrix(y_test, y_pred_test)\n",
    "results['Test'] = {'classification_acc': accuracy_score(y_pred_test, y_test),\n",
    "                      'True Positive': test_cm[1,1], 'False Positive': test_cm[1,0],\n",
    "                      'False Negative': test_cm[0,1], 'True Negative': test_cm[0,0]}\n",
    "\n",
    "pd.DataFrame(data=results)"
   ]
  },
  {
   "cell_type": "code",
   "execution_count": 98,
   "metadata": {},
   "outputs": [
    {
     "name": "stdout",
     "output_type": "stream",
     "text": [
      "Training Set\n",
      "Precision: 0.000000\n",
      "Negative predictive value: 1.000000\n",
      "Sensitivity (Recall): nan\n",
      "Specificity: 0.806521\n",
      "F1 score: nan\n",
      " \n",
      "Testing Set\n",
      "Precision: 0.000000\n",
      "Negative predictive value: 1.000000\n",
      "Sensitivity (Recall): nan\n",
      "Specificity: 0.813400\n",
      "F1 score: nan\n",
      " \n"
     ]
    },
    {
     "name": "stderr",
     "output_type": "stream",
     "text": [
      "C:\\ProgramData\\Anaconda2\\lib\\site-packages\\ipykernel_launcher.py:6: RuntimeWarning: invalid value encountered in divide\n",
      "  \n",
      "C:\\ProgramData\\Anaconda2\\lib\\site-packages\\ipykernel_launcher.py:19: RuntimeWarning: invalid value encountered in divide\n"
     ]
    }
   ],
   "source": [
    "print('Training Set')\n",
    "train_precision = float(train_cm[1,1]) / ((train_cm[1,1]) + train_cm[1,0])\n",
    "print(\"Precision: %f\" % train_precision)\n",
    "train_npv = float(train_cm[0,0]) / ((train_cm[0,0]) + train_cm[0,1])\n",
    "print(\"Negative predictive value: %f\" % train_npv)\n",
    "train_recall = float(train_cm[1,1]) / ((train_cm[1,1]) + train_cm[0,1])\n",
    "print(\"Sensitivity (Recall): %f\" % train_recall)\n",
    "train_specificity = float(train_cm[0,0]) / ((train_cm[0,0]) + train_cm[1,0])\n",
    "print(\"Specificity: %f\" % train_specificity)\n",
    "train_f1 = 2 * (train_precision * train_recall) / (train_precision + train_recall)\n",
    "print(\"F1 score: %f\" % train_f1)\n",
    "print(\" \")\n",
    "\n",
    "print('Testing Set')\n",
    "test_precision = float(test_cm[1,1]) / ((test_cm[1,1]) + test_cm[1,0])\n",
    "print(\"Precision: %f\" % test_precision)\n",
    "test_npv = float(test_cm[0,0]) / ((test_cm[0,0]) + test_cm[0,1])\n",
    "print(\"Negative predictive value: %f\" % test_npv)\n",
    "test_recall = float(test_cm[1,1]) / ((test_cm[1,1]) + test_cm[0,1])\n",
    "print(\"Sensitivity (Recall): %f\" % test_recall)\n",
    "test_specificity = float(test_cm[0,0]) / ((test_cm[0,0]) + test_cm[1,0])\n",
    "print(\"Specificity: %f\" % test_specificity)\n",
    "test_f1 = 2 * (test_precision * test_recall) / (test_precision + test_recall)\n",
    "print(\"F1 score: %f\" % test_f1)\n",
    "print(\" \")"
   ]
  },
  {
   "cell_type": "markdown",
   "metadata": {},
   "source": [
    "## Random Forest"
   ]
  },
  {
   "cell_type": "code",
   "execution_count": 99,
   "metadata": {},
   "outputs": [
    {
     "name": "stdout",
     "output_type": "stream",
     "text": [
      "Accuracy on training set: 1.000\n",
      "Accuracy on test set: 0.822\n"
     ]
    }
   ],
   "source": [
    "from sklearn.model_selection import train_test_split\n",
    "X_train, X_test, y_train, y_test = train_test_split(df1.loc[:, 'Gender':'DBP_Max'], df1['Outcome'], test_size=.3, random_state=66)\n",
    "from sklearn.metrics import accuracy_score \n",
    "from sklearn.metrics import classification_report \n",
    "\n",
    "from sklearn.ensemble import RandomForestClassifier\n",
    "rf = RandomForestClassifier(n_estimators=100, random_state=0)\n",
    "rf.fit(X_train, y_train)\n",
    "print(\"Accuracy on training set: {:.3f}\".format(rf.score(X_train, y_train)))\n",
    "print(\"Accuracy on test set: {:.3f}\".format(rf.score(X_test, y_test)))"
   ]
  },
  {
   "cell_type": "code",
   "execution_count": 100,
   "metadata": {},
   "outputs": [
    {
     "name": "stdout",
     "output_type": "stream",
     "text": [
      "Accuracy on training set: 0.807\n",
      "Accuracy on test set: 0.813\n"
     ]
    }
   ],
   "source": [
    "forest = RandomForestClassifier(max_depth=3, n_estimators=100, random_state=0)\n",
    "forest.fit(X_train, y_train)\n",
    "print(\"Accuracy on training set: {:.3f}\".format(rf1.score(X_train, y_train)))\n",
    "print(\"Accuracy on test set: {:.3f}\".format(rf1.score(X_test, y_test)))"
   ]
  },
  {
   "cell_type": "code",
   "execution_count": 101,
   "metadata": {},
   "outputs": [
    {
     "data": {
      "image/png": "[encoded data removed]",
      "text/plain": [
       "<Figure size 576x432 with 1 Axes>"
      ]
     },
     "metadata": {},
     "output_type": "display_data"
    }
   ],
   "source": [
    "plot_feature_importances_diabetes(forest)"
   ]
  },
  {
   "cell_type": "code",
   "execution_count": 102,
   "metadata": {},
   "outputs": [
    {
     "data": {
      "text/html": [
       "<div>\n",
       "<style scoped>\n",
       "    .dataframe tbody tr th:only-of-type {\n",
       "        vertical-align: middle;\n",
       "    }\n",
       "\n",
       "    .dataframe tbody tr th {\n",
       "        vertical-align: top;\n",
       "    }\n",
       "\n",
       "    .dataframe thead th {\n",
       "        text-align: right;\n",
       "    }\n",
       "</style>\n",
       "<table border=\"1\" class=\"dataframe\">\n",
       "  <thead>\n",
       "    <tr style=\"text-align: right;\">\n",
       "      <th></th>\n",
       "      <th>Test</th>\n",
       "      <th>Training</th>\n",
       "    </tr>\n",
       "  </thead>\n",
       "  <tbody>\n",
       "    <tr>\n",
       "      <th>False Negative</th>\n",
       "      <td>0.0000</td>\n",
       "      <td>0.000000</td>\n",
       "    </tr>\n",
       "    <tr>\n",
       "      <th>False Positive</th>\n",
       "      <td>557.0000</td>\n",
       "      <td>1347.000000</td>\n",
       "    </tr>\n",
       "    <tr>\n",
       "      <th>True Negative</th>\n",
       "      <td>2428.0000</td>\n",
       "      <td>5615.000000</td>\n",
       "    </tr>\n",
       "    <tr>\n",
       "      <th>True Positive</th>\n",
       "      <td>0.0000</td>\n",
       "      <td>0.000000</td>\n",
       "    </tr>\n",
       "    <tr>\n",
       "      <th>classification_acc</th>\n",
       "      <td>0.8134</td>\n",
       "      <td>0.806521</td>\n",
       "    </tr>\n",
       "  </tbody>\n",
       "</table>\n",
       "</div>"
      ],
      "text/plain": [
       "                         Test     Training\n",
       "False Negative         0.0000     0.000000\n",
       "False Positive       557.0000  1347.000000\n",
       "True Negative       2428.0000  5615.000000\n",
       "True Positive          0.0000     0.000000\n",
       "classification_acc     0.8134     0.806521"
      ]
     },
     "execution_count": 102,
     "metadata": {},
     "output_type": "execute_result"
    }
   ],
   "source": [
    "from sklearn.model_selection import train_test_split\n",
    "X_train, X_test, y_train, y_test = train_test_split(df1.loc[:, 'Gender':'DBP_Max'], df1['Outcome'], test_size=.3, random_state=66)\n",
    "\n",
    "from sklearn.ensemble import RandomForestClassifier\n",
    "forest = RandomForestClassifier(max_depth=3, n_estimators=100, random_state=0)\n",
    "forest.fit(X_train, y_train)\n",
    "\n",
    "y_pred_train = forest.predict(X_train)\n",
    "y_pred_test = forest.predict(X_test)\n",
    "\n",
    "from sklearn.metrics import confusion_matrix\n",
    "from sklearn.metrics import accuracy_score\n",
    "results = dict()\n",
    "train_cm = confusion_matrix(y_train, y_pred_train)\n",
    "results['Training'] = {'classification_acc': accuracy_score(y_pred_train, y_train),\n",
    "                      'True Positive': train_cm[1,1], 'False Positive': train_cm[1,0],\n",
    "                      'False Negative': train_cm[0,1], 'True Negative': train_cm[0,0]}\n",
    "\n",
    "test_cm = confusion_matrix(y_test, y_pred_test)\n",
    "results['Test'] = {'classification_acc': accuracy_score(y_pred_test, y_test),\n",
    "                      'True Positive': test_cm[1,1], 'False Positive': test_cm[1,0],\n",
    "                      'False Negative': test_cm[0,1], 'True Negative': test_cm[0,0]}\n",
    "\n",
    "pd.DataFrame(data=results)"
   ]
  },
  {
   "cell_type": "code",
   "execution_count": 103,
   "metadata": {},
   "outputs": [
    {
     "name": "stdout",
     "output_type": "stream",
     "text": [
      "Training Set\n",
      "Precision: 0.000000\n",
      "Negative predictive value: 1.000000\n",
      "Sensitivity (Recall): nan\n",
      "Specificity: 0.806521\n",
      "F1 score: nan\n",
      " \n",
      "Testing Set\n",
      "Precision: 0.000000\n",
      "Negative predictive value: 1.000000\n",
      "Sensitivity (Recall): nan\n",
      "Specificity: 0.813400\n",
      "F1 score: nan\n",
      " \n"
     ]
    },
    {
     "name": "stderr",
     "output_type": "stream",
     "text": [
      "C:\\ProgramData\\Anaconda2\\lib\\site-packages\\ipykernel_launcher.py:6: RuntimeWarning: invalid value encountered in divide\n",
      "  \n",
      "C:\\ProgramData\\Anaconda2\\lib\\site-packages\\ipykernel_launcher.py:19: RuntimeWarning: invalid value encountered in divide\n"
     ]
    }
   ],
   "source": [
    "print('Training Set')\n",
    "train_precision = float(train_cm[1,1]) / ((train_cm[1,1]) + train_cm[1,0])\n",
    "print(\"Precision: %f\" % train_precision)\n",
    "train_npv = float(train_cm[0,0]) / ((train_cm[0,0]) + train_cm[0,1])\n",
    "print(\"Negative predictive value: %f\" % train_npv)\n",
    "train_recall = float(train_cm[1,1]) / ((train_cm[1,1]) + train_cm[0,1])\n",
    "print(\"Sensitivity (Recall): %f\" % train_recall)\n",
    "train_specificity = float(train_cm[0,0]) / ((train_cm[0,0]) + train_cm[1,0])\n",
    "print(\"Specificity: %f\" % train_specificity)\n",
    "train_f1 = 2 * (train_precision * train_recall) / (train_precision + train_recall)\n",
    "print(\"F1 score: %f\" % train_f1)\n",
    "print(\" \")\n",
    "\n",
    "print('Testing Set')\n",
    "test_precision = float(test_cm[1,1]) / ((test_cm[1,1]) + test_cm[1,0])\n",
    "print(\"Precision: %f\" % test_precision)\n",
    "test_npv = float(test_cm[0,0]) / ((test_cm[0,0]) + test_cm[0,1])\n",
    "print(\"Negative predictive value: %f\" % test_npv)\n",
    "test_recall = float(test_cm[1,1]) / ((test_cm[1,1]) + test_cm[0,1])\n",
    "print(\"Sensitivity (Recall): %f\" % test_recall)\n",
    "test_specificity = float(test_cm[0,0]) / ((test_cm[0,0]) + test_cm[1,0])\n",
    "print(\"Specificity: %f\" % test_specificity)\n",
    "test_f1 = 2 * (test_precision * test_recall) / (test_precision + test_recall)\n",
    "print(\"F1 score: %f\" % test_f1)\n",
    "print(\" \")"
   ]
  },
  {
   "cell_type": "markdown",
   "metadata": {},
   "source": [
    "## Gradient Boosting"
   ]
  },
  {
   "cell_type": "code",
   "execution_count": 104,
   "metadata": {},
   "outputs": [
    {
     "name": "stdout",
     "output_type": "stream",
     "text": [
      "Accuracy on training set: 0.840\n",
      "Accuracy on test set: 0.820\n"
     ]
    }
   ],
   "source": [
    "from sklearn.ensemble import GradientBoostingClassifier\n",
    "gradient = GradientBoostingClassifier(random_state=0)\n",
    "gradient.fit(X_train, y_train)\n",
    "print(\"Accuracy on training set: {:.3f}\".format(gradient.score(X_train, y_train)))\n",
    "print(\"Accuracy on test set: {:.3f}\".format(gradient.score(X_test, y_test)))"
   ]
  },
  {
   "cell_type": "code",
   "execution_count": 105,
   "metadata": {},
   "outputs": [
    {
     "name": "stdout",
     "output_type": "stream",
     "text": [
      "Accuracy on training set: 0.809\n",
      "Accuracy on test set: 0.819\n"
     ]
    }
   ],
   "source": [
    "gradient1 = GradientBoostingClassifier(random_state=0, max_depth=1)\n",
    "gradient1.fit(X_train, y_train)\n",
    "print(\"Accuracy on training set: {:.3f}\".format(gradient1.score(X_train, y_train)))\n",
    "print(\"Accuracy on test set: {:.3f}\".format(gradient1.score(X_test, y_test)))"
   ]
  },
  {
   "cell_type": "code",
   "execution_count": 106,
   "metadata": {},
   "outputs": [
    {
     "data": {
      "image/png": "[encoded data removed]",
      "text/plain": [
       "<Figure size 576x432 with 1 Axes>"
      ]
     },
     "metadata": {},
     "output_type": "display_data"
    }
   ],
   "source": [
    "plot_feature_importances_diabetes(gradient)"
   ]
  },
  {
   "cell_type": "code",
   "execution_count": 107,
   "metadata": {},
   "outputs": [
    {
     "data": {
      "text/html": [
       "<div>\n",
       "<style scoped>\n",
       "    .dataframe tbody tr th:only-of-type {\n",
       "        vertical-align: middle;\n",
       "    }\n",
       "\n",
       "    .dataframe tbody tr th {\n",
       "        vertical-align: top;\n",
       "    }\n",
       "\n",
       "    .dataframe thead th {\n",
       "        text-align: right;\n",
       "    }\n",
       "</style>\n",
       "<table border=\"1\" class=\"dataframe\">\n",
       "  <thead>\n",
       "    <tr style=\"text-align: right;\">\n",
       "      <th></th>\n",
       "      <th>Test</th>\n",
       "      <th>Training</th>\n",
       "    </tr>\n",
       "  </thead>\n",
       "  <tbody>\n",
       "    <tr>\n",
       "      <th>False Negative</th>\n",
       "      <td>64.000000</td>\n",
       "      <td>90.000000</td>\n",
       "    </tr>\n",
       "    <tr>\n",
       "      <th>False Positive</th>\n",
       "      <td>472.000000</td>\n",
       "      <td>1027.000000</td>\n",
       "    </tr>\n",
       "    <tr>\n",
       "      <th>True Negative</th>\n",
       "      <td>2364.000000</td>\n",
       "      <td>5525.000000</td>\n",
       "    </tr>\n",
       "    <tr>\n",
       "      <th>True Positive</th>\n",
       "      <td>85.000000</td>\n",
       "      <td>320.000000</td>\n",
       "    </tr>\n",
       "    <tr>\n",
       "      <th>classification_acc</th>\n",
       "      <td>0.820436</td>\n",
       "      <td>0.839558</td>\n",
       "    </tr>\n",
       "  </tbody>\n",
       "</table>\n",
       "</div>"
      ],
      "text/plain": [
       "                           Test     Training\n",
       "False Negative        64.000000    90.000000\n",
       "False Positive       472.000000  1027.000000\n",
       "True Negative       2364.000000  5525.000000\n",
       "True Positive         85.000000   320.000000\n",
       "classification_acc     0.820436     0.839558"
      ]
     },
     "execution_count": 107,
     "metadata": {},
     "output_type": "execute_result"
    }
   ],
   "source": [
    "from sklearn.model_selection import train_test_split\n",
    "X_train, X_test, y_train, y_test = train_test_split(df1.loc[:, 'Gender':'DBP_Max'], df1['Outcome'], test_size=.3, random_state=66)\n",
    "\n",
    "from sklearn.ensemble import GradientBoostingClassifier\n",
    "gradient = GradientBoostingClassifier(random_state=0)\n",
    "gradient.fit(X_train, y_train)\n",
    "\n",
    "y_pred_train = gradient.predict(X_train)\n",
    "y_pred_test = gradient.predict(X_test)\n",
    "\n",
    "from sklearn.metrics import confusion_matrix\n",
    "from sklearn.metrics import accuracy_score\n",
    "results = dict()\n",
    "train_cm = confusion_matrix(y_train, y_pred_train)\n",
    "results['Training'] = {'classification_acc': accuracy_score(y_pred_train, y_train),\n",
    "                      'True Positive': train_cm[1,1], 'False Positive': train_cm[1,0],\n",
    "                      'False Negative': train_cm[0,1], 'True Negative': train_cm[0,0]}\n",
    "\n",
    "test_cm = confusion_matrix(y_test, y_pred_test)\n",
    "results['Test'] = {'classification_acc': accuracy_score(y_pred_test, y_test),\n",
    "                      'True Positive': test_cm[1,1], 'False Positive': test_cm[1,0],\n",
    "                      'False Negative': test_cm[0,1], 'True Negative': test_cm[0,0]}\n",
    "\n",
    "pd.DataFrame(data=results)"
   ]
  },
  {
   "cell_type": "code",
   "execution_count": 108,
   "metadata": {},
   "outputs": [
    {
     "name": "stdout",
     "output_type": "stream",
     "text": [
      "Training Set\n",
      "Precision: 0.237565\n",
      "Negative predictive value: 0.983972\n",
      "Sensitivity (Recall): 0.780488\n",
      "Specificity: 0.843254\n",
      "F1 score: 0.364257\n",
      " \n",
      "Testing Set\n",
      "Precision: 0.152603\n",
      "Negative predictive value: 0.973641\n",
      "Sensitivity (Recall): 0.570470\n",
      "Specificity: 0.833568\n",
      "F1 score: 0.240793\n",
      " \n"
     ]
    }
   ],
   "source": [
    "print('Training Set')\n",
    "train_precision = float(train_cm[1,1]) / ((train_cm[1,1]) + train_cm[1,0])\n",
    "print(\"Precision: %f\" % train_precision)\n",
    "train_npv = float(train_cm[0,0]) / ((train_cm[0,0]) + train_cm[0,1])\n",
    "print(\"Negative predictive value: %f\" % train_npv)\n",
    "train_recall = float(train_cm[1,1]) / ((train_cm[1,1]) + train_cm[0,1])\n",
    "print(\"Sensitivity (Recall): %f\" % train_recall)\n",
    "train_specificity = float(train_cm[0,0]) / ((train_cm[0,0]) + train_cm[1,0])\n",
    "print(\"Specificity: %f\" % train_specificity)\n",
    "train_f1 = 2 * (train_precision * train_recall) / (train_precision + train_recall)\n",
    "print(\"F1 score: %f\" % train_f1)\n",
    "print(\" \")\n",
    "\n",
    "print('Testing Set')\n",
    "test_precision = float(test_cm[1,1]) / ((test_cm[1,1]) + test_cm[1,0])\n",
    "print(\"Precision: %f\" % test_precision)\n",
    "test_npv = float(test_cm[0,0]) / ((test_cm[0,0]) + test_cm[0,1])\n",
    "print(\"Negative predictive value: %f\" % test_npv)\n",
    "test_recall = float(test_cm[1,1]) / ((test_cm[1,1]) + test_cm[0,1])\n",
    "print(\"Sensitivity (Recall): %f\" % test_recall)\n",
    "test_specificity = float(test_cm[0,0]) / ((test_cm[0,0]) + test_cm[1,0])\n",
    "print(\"Specificity: %f\" % test_specificity)\n",
    "test_f1 = 2 * (test_precision * test_recall) / (test_precision + test_recall)\n",
    "print(\"F1 score: %f\" % test_f1)\n",
    "print(\" \")"
   ]
  },
  {
   "cell_type": "markdown",
   "metadata": {},
   "source": [
    "## Neural Network"
   ]
  },
  {
   "cell_type": "code",
   "execution_count": 81,
   "metadata": {},
   "outputs": [
    {
     "name": "stdout",
     "output_type": "stream",
     "text": [
      "Accuracy on training set: 0.81\n",
      "Accuracy on test set: 0.81\n"
     ]
    }
   ],
   "source": [
    "from sklearn.neural_network import MLPClassifier\n",
    "mlp = MLPClassifier(random_state=42)\n",
    "mlp.fit(X_train, y_train)\n",
    "print(\"Accuracy on training set: {:.2f}\".format(mlp.score(X_train, y_train)))\n",
    "print(\"Accuracy on test set: {:.2f}\".format(mlp.score(X_test, y_test)))"
   ]
  },
  {
   "cell_type": "code",
   "execution_count": 82,
   "metadata": {},
   "outputs": [
    {
     "name": "stdout",
     "output_type": "stream",
     "text": [
      "Accuracy on training set: 0.822\n",
      "Accuracy on test set: 0.825\n"
     ]
    }
   ],
   "source": [
    "from sklearn.preprocessing import StandardScaler\n",
    "scaler = StandardScaler()\n",
    "X_train_scaled = scaler.fit_transform(X_train)\n",
    "X_test_scaled = scaler.fit_transform(X_test)\n",
    "mlp = MLPClassifier(random_state=0)\n",
    "mlp.fit(X_train_scaled, y_train)\n",
    "print(\"Accuracy on training set: {:.3f}\".format(\n",
    "    mlp.score(X_train_scaled, y_train)))\n",
    "print(\"Accuracy on test set: {:.3f}\".format(mlp.score(X_test_scaled, y_test)))"
   ]
  },
  {
   "cell_type": "code",
   "execution_count": 109,
   "metadata": {},
   "outputs": [
    {
     "data": {
      "text/html": [
       "<div>\n",
       "<style scoped>\n",
       "    .dataframe tbody tr th:only-of-type {\n",
       "        vertical-align: middle;\n",
       "    }\n",
       "\n",
       "    .dataframe tbody tr th {\n",
       "        vertical-align: top;\n",
       "    }\n",
       "\n",
       "    .dataframe thead th {\n",
       "        text-align: right;\n",
       "    }\n",
       "</style>\n",
       "<table border=\"1\" class=\"dataframe\">\n",
       "  <thead>\n",
       "    <tr style=\"text-align: right;\">\n",
       "      <th></th>\n",
       "      <th>Test</th>\n",
       "      <th>Training</th>\n",
       "    </tr>\n",
       "  </thead>\n",
       "  <tbody>\n",
       "    <tr>\n",
       "      <th>False Negative</th>\n",
       "      <td>64.000000</td>\n",
       "      <td>90.000000</td>\n",
       "    </tr>\n",
       "    <tr>\n",
       "      <th>False Positive</th>\n",
       "      <td>472.000000</td>\n",
       "      <td>1027.000000</td>\n",
       "    </tr>\n",
       "    <tr>\n",
       "      <th>True Negative</th>\n",
       "      <td>2364.000000</td>\n",
       "      <td>5525.000000</td>\n",
       "    </tr>\n",
       "    <tr>\n",
       "      <th>True Positive</th>\n",
       "      <td>85.000000</td>\n",
       "      <td>320.000000</td>\n",
       "    </tr>\n",
       "    <tr>\n",
       "      <th>classification_acc</th>\n",
       "      <td>0.820436</td>\n",
       "      <td>0.839558</td>\n",
       "    </tr>\n",
       "  </tbody>\n",
       "</table>\n",
       "</div>"
      ],
      "text/plain": [
       "                           Test     Training\n",
       "False Negative        64.000000    90.000000\n",
       "False Positive       472.000000  1027.000000\n",
       "True Negative       2364.000000  5525.000000\n",
       "True Positive         85.000000   320.000000\n",
       "classification_acc     0.820436     0.839558"
      ]
     },
     "execution_count": 109,
     "metadata": {},
     "output_type": "execute_result"
    }
   ],
   "source": [
    "y_pred_train = gradient.predict(X_train)\n",
    "y_pred_test = gradient.predict(X_test)\n",
    "\n",
    "from sklearn.metrics import confusion_matrix\n",
    "from sklearn.metrics import accuracy_score\n",
    "results = dict()\n",
    "train_cm = confusion_matrix(y_train, y_pred_train)\n",
    "results['Training'] = {'classification_acc': accuracy_score(y_pred_train, y_train),\n",
    "                      'True Positive': train_cm[1,1], 'False Positive': train_cm[1,0],\n",
    "                      'False Negative': train_cm[0,1], 'True Negative': train_cm[0,0]}\n",
    "\n",
    "test_cm = confusion_matrix(y_test, y_pred_test)\n",
    "results['Test'] = {'classification_acc': accuracy_score(y_pred_test, y_test),\n",
    "                      'True Positive': test_cm[1,1], 'False Positive': test_cm[1,0],\n",
    "                      'False Negative': test_cm[0,1], 'True Negative': test_cm[0,0]}\n",
    "\n",
    "pd.DataFrame(data=results)"
   ]
  },
  {
   "cell_type": "code",
   "execution_count": 110,
   "metadata": {},
   "outputs": [
    {
     "name": "stdout",
     "output_type": "stream",
     "text": [
      "Training Set\n",
      "Precision: 0.237565\n",
      "Negative predictive value: 0.983972\n",
      "Sensitivity (Recall): 0.780488\n",
      "Specificity: 0.843254\n",
      "F1 score: 0.364257\n",
      " \n",
      "Testing Set\n",
      "Precision: 0.152603\n",
      "Negative predictive value: 0.973641\n",
      "Sensitivity (Recall): 0.570470\n",
      "Specificity: 0.833568\n",
      "F1 score: 0.240793\n",
      " \n"
     ]
    }
   ],
   "source": [
    "print('Training Set')\n",
    "train_precision = float(train_cm[1,1]) / ((train_cm[1,1]) + train_cm[1,0])\n",
    "print(\"Precision: %f\" % train_precision)\n",
    "train_npv = float(train_cm[0,0]) / ((train_cm[0,0]) + train_cm[0,1])\n",
    "print(\"Negative predictive value: %f\" % train_npv)\n",
    "train_recall = float(train_cm[1,1]) / ((train_cm[1,1]) + train_cm[0,1])\n",
    "print(\"Sensitivity (Recall): %f\" % train_recall)\n",
    "train_specificity = float(train_cm[0,0]) / ((train_cm[0,0]) + train_cm[1,0])\n",
    "print(\"Specificity: %f\" % train_specificity)\n",
    "train_f1 = 2 * (train_precision * train_recall) / (train_precision + train_recall)\n",
    "print(\"F1 score: %f\" % train_f1)\n",
    "print(\" \")\n",
    "\n",
    "print('Testing Set')\n",
    "test_precision = float(test_cm[1,1]) / ((test_cm[1,1]) + test_cm[1,0])\n",
    "print(\"Precision: %f\" % test_precision)\n",
    "test_npv = float(test_cm[0,0]) / ((test_cm[0,0]) + test_cm[0,1])\n",
    "print(\"Negative predictive value: %f\" % test_npv)\n",
    "test_recall = float(test_cm[1,1]) / ((test_cm[1,1]) + test_cm[0,1])\n",
    "print(\"Sensitivity (Recall): %f\" % test_recall)\n",
    "test_specificity = float(test_cm[0,0]) / ((test_cm[0,0]) + test_cm[1,0])\n",
    "print(\"Specificity: %f\" % test_specificity)\n",
    "test_f1 = 2 * (test_precision * test_recall) / (test_precision + test_recall)\n",
    "print(\"F1 score: %f\" % test_f1)\n",
    "print(\" \")"
   ]
  },
  {
   "cell_type": "markdown",
   "metadata": {},
   "source": [
    "## Naive Bayes"
   ]
  },
  {
   "cell_type": "code",
   "execution_count": 114,
   "metadata": {},
   "outputs": [
    {
     "name": "stdout",
     "output_type": "stream",
     "text": [
      "Accuracy on training set: 0.66\n",
      "Accuracy on test set: 0.66\n"
     ]
    }
   ],
   "source": [
    "from sklearn.naive_bayes import GaussianNB\n",
    "gaussian = GaussianNB()\n",
    "gaussian.fit(X_train, y_train)\n",
    "print(\"Accuracy on training set: {:.2f}\".format(gaussian.score(X_train, y_train)))\n",
    "print(\"Accuracy on test set: {:.2f}\".format(gaussian.score(X_test, y_test)))"
   ]
  },
  {
   "cell_type": "code",
   "execution_count": 115,
   "metadata": {},
   "outputs": [
    {
     "data": {
      "text/html": [
       "<div>\n",
       "<style scoped>\n",
       "    .dataframe tbody tr th:only-of-type {\n",
       "        vertical-align: middle;\n",
       "    }\n",
       "\n",
       "    .dataframe tbody tr th {\n",
       "        vertical-align: top;\n",
       "    }\n",
       "\n",
       "    .dataframe thead th {\n",
       "        text-align: right;\n",
       "    }\n",
       "</style>\n",
       "<table border=\"1\" class=\"dataframe\">\n",
       "  <thead>\n",
       "    <tr style=\"text-align: right;\">\n",
       "      <th></th>\n",
       "      <th>Test</th>\n",
       "      <th>Training</th>\n",
       "    </tr>\n",
       "  </thead>\n",
       "  <tbody>\n",
       "    <tr>\n",
       "      <th>False Negative</th>\n",
       "      <td>815.000000</td>\n",
       "      <td>1897.000000</td>\n",
       "    </tr>\n",
       "    <tr>\n",
       "      <th>False Positive</th>\n",
       "      <td>187.000000</td>\n",
       "      <td>469.000000</td>\n",
       "    </tr>\n",
       "    <tr>\n",
       "      <th>True Negative</th>\n",
       "      <td>1613.000000</td>\n",
       "      <td>3718.000000</td>\n",
       "    </tr>\n",
       "    <tr>\n",
       "      <th>True Positive</th>\n",
       "      <td>370.000000</td>\n",
       "      <td>878.000000</td>\n",
       "    </tr>\n",
       "    <tr>\n",
       "      <th>classification_acc</th>\n",
       "      <td>0.664322</td>\n",
       "      <td>0.660155</td>\n",
       "    </tr>\n",
       "  </tbody>\n",
       "</table>\n",
       "</div>"
      ],
      "text/plain": [
       "                           Test     Training\n",
       "False Negative       815.000000  1897.000000\n",
       "False Positive       187.000000   469.000000\n",
       "True Negative       1613.000000  3718.000000\n",
       "True Positive        370.000000   878.000000\n",
       "classification_acc     0.664322     0.660155"
      ]
     },
     "execution_count": 115,
     "metadata": {},
     "output_type": "execute_result"
    }
   ],
   "source": [
    "y_pred_train = gaussian.predict(X_train)\n",
    "y_pred_test = gaussian.predict(X_test)\n",
    "\n",
    "from sklearn.metrics import confusion_matrix\n",
    "from sklearn.metrics import accuracy_score\n",
    "results = dict()\n",
    "train_cm = confusion_matrix(y_train, y_pred_train)\n",
    "results['Training'] = {'classification_acc': accuracy_score(y_pred_train, y_train),\n",
    "                      'True Positive': train_cm[1,1], 'False Positive': train_cm[1,0],\n",
    "                      'False Negative': train_cm[0,1], 'True Negative': train_cm[0,0]}\n",
    "\n",
    "test_cm = confusion_matrix(y_test, y_pred_test)\n",
    "results['Test'] = {'classification_acc': accuracy_score(y_pred_test, y_test),\n",
    "                      'True Positive': test_cm[1,1], 'False Positive': test_cm[1,0],\n",
    "                      'False Negative': test_cm[0,1], 'True Negative': test_cm[0,0]}\n",
    "\n",
    "pd.DataFrame(data=results)"
   ]
  },
  {
   "cell_type": "code",
   "execution_count": 116,
   "metadata": {},
   "outputs": [
    {
     "name": "stdout",
     "output_type": "stream",
     "text": [
      "Training Set\n",
      "Precision: 0.651819\n",
      "Negative predictive value: 0.662155\n",
      "Sensitivity (Recall): 0.316396\n",
      "Specificity: 0.887987\n",
      "F1 score: 0.426007\n",
      " \n",
      "Testing Set\n",
      "Precision: 0.664273\n",
      "Negative predictive value: 0.664333\n",
      "Sensitivity (Recall): 0.312236\n",
      "Specificity: 0.896111\n",
      "F1 score: 0.424799\n",
      " \n"
     ]
    }
   ],
   "source": [
    "print('Training Set')\n",
    "train_precision = float(train_cm[1,1]) / ((train_cm[1,1]) + train_cm[1,0])\n",
    "print(\"Precision: %f\" % train_precision)\n",
    "train_npv = float(train_cm[0,0]) / ((train_cm[0,0]) + train_cm[0,1])\n",
    "print(\"Negative predictive value: %f\" % train_npv)\n",
    "train_recall = float(train_cm[1,1]) / ((train_cm[1,1]) + train_cm[0,1])\n",
    "print(\"Sensitivity (Recall): %f\" % train_recall)\n",
    "train_specificity = float(train_cm[0,0]) / ((train_cm[0,0]) + train_cm[1,0])\n",
    "print(\"Specificity: %f\" % train_specificity)\n",
    "train_f1 = 2 * (train_precision * train_recall) / (train_precision + train_recall)\n",
    "print(\"F1 score: %f\" % train_f1)\n",
    "print(\" \")\n",
    "\n",
    "print('Testing Set')\n",
    "test_precision = float(test_cm[1,1]) / ((test_cm[1,1]) + test_cm[1,0])\n",
    "print(\"Precision: %f\" % test_precision)\n",
    "test_npv = float(test_cm[0,0]) / ((test_cm[0,0]) + test_cm[0,1])\n",
    "print(\"Negative predictive value: %f\" % test_npv)\n",
    "test_recall = float(test_cm[1,1]) / ((test_cm[1,1]) + test_cm[0,1])\n",
    "print(\"Sensitivity (Recall): %f\" % test_recall)\n",
    "test_specificity = float(test_cm[0,0]) / ((test_cm[0,0]) + test_cm[1,0])\n",
    "print(\"Specificity: %f\" % test_specificity)\n",
    "test_f1 = 2 * (test_precision * test_recall) / (test_precision + test_recall)\n",
    "print(\"F1 score: %f\" % test_f1)\n",
    "print(\" \")"
   ]
  },
  {
   "cell_type": "code",
   "execution_count": null,
   "metadata": {},
   "outputs": [],
   "source": []
  }
 ],
 "metadata": {
  "kernelspec": {
   "display_name": "Python 2",
   "language": "python",
   "name": "python2"
  },
  "language_info": {
   "codemirror_mode": {
    "name": "ipython",
    "version": 2
   },
   "file_extension": ".py",
   "mimetype": "text/x-python",
   "name": "python",
   "nbconvert_exporter": "python",
   "pygments_lexer": "ipython2",
   "version": "2.7.15"
  }
 },
 "nbformat": 4,
 "nbformat_minor": 2
}
